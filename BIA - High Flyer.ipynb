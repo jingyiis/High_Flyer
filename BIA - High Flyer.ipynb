{
 "cells": [
  {
   "cell_type": "code",
   "execution_count": null,
   "metadata": {},
   "outputs": [],
   "source": [
    "#Importing functions library\n",
    "\n",
    "import datetime, warnings, scipy \n",
    "import pandas as pd\n",
    "import numpy as np\n",
    "import seaborn as sns\n",
    "import matplotlib as mpl\n",
    "import matplotlib.pyplot as plt\n",
    "import matplotlib.patches as patches\n",
    "#from matplotlib.patches import ConnectionPatch\n",
    "#from collections import OrderedDict\n",
    "#from matplotlib.gridspec import GridSpec\n",
    "#from mpl_toolkits.basemap import Basemap\n",
    "#from sklearn import metrics, linear_model\n",
    "#from sklearn.preprocessing import PolynomialFeatures, StandardScaler\n",
    "#from sklearn.preprocessing import LabelEncoder, OneHotEncoder\n",
    "#from sklearn.model_selection import train_test_split, cross_val_score, cross_val_predict\n",
    "#from scipy.optimize import curve_fit\n"
   ]
  },
  {
   "cell_type": "code",
   "execution_count": null,
   "metadata": {},
   "outputs": [],
   "source": [
    "#Importing data sets\n",
    "\n",
    "flights_df = pd.read_csv(\"flights.csv\", sep = \",\")\n",
    "flights_df.head()\n",
    "print(flights_df.column)"
   ]
  },
  {
   "cell_type": "code",
   "execution_count": null,
   "metadata": {},
   "outputs": [],
   "source": [
    "#Cleaning the data "
   ]
  },
  {
   "cell_type": "code",
   "execution_count": null,
   "metadata": {},
   "outputs": [],
   "source": []
  }
 ],
 "metadata": {
  "kernelspec": {
   "display_name": "Python 3",
   "language": "python",
   "name": "python3"
  },
  "language_info": {
   "codemirror_mode": {
    "name": "ipython",
    "version": 3
   },
   "file_extension": ".py",
   "mimetype": "text/x-python",
   "name": "python",
   "nbconvert_exporter": "python",
   "pygments_lexer": "ipython3",
   "version": "3.6.5"
  }
 },
 "nbformat": 4,
 "nbformat_minor": 2
}
